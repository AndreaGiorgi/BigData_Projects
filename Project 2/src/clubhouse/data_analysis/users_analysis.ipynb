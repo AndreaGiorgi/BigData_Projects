{
 "cells": [
  {
   "cell_type": "code",
   "execution_count": 1,
   "id": "d0905844",
   "metadata": {},
   "outputs": [],
   "source": [
    "import pandas as pd\n",
    "import numpy as np\n",
    "import seaborn as sns\n",
    "from datetime import datetime\n",
    "import warnings\n",
    "import matplotlib.pyplot as plt"
   ]
  },
  {
   "cell_type": "code",
   "execution_count": 2,
   "id": "9e3b5afb",
   "metadata": {},
   "outputs": [],
   "source": [
    "warnings.filterwarnings('ignore')\n",
    "%matplotlib inline"
   ]
  },
  {
   "cell_type": "code",
   "execution_count": 3,
   "id": "4e88ee61",
   "metadata": {},
   "outputs": [],
   "source": [
    "## It sets True or False values (1/0) to null columns \n",
    "\n",
    "def true_false_setter(columns):\n",
    "    if columns == 'null':\n",
    "        return 0\n",
    "    elif pd.isnull(columns):\n",
    "        return 0\n",
    "    else:\n",
    "        return 1"
   ]
  },
  {
   "cell_type": "code",
   "execution_count": null,
   "id": "1bbacb71",
   "metadata": {},
   "outputs": [],
   "source": [
    "dataset = pd.read_csv(\"user_data.csv\")"
   ]
  },
  {
   "cell_type": "code",
   "execution_count": null,
   "id": "2d50519b",
   "metadata": {},
   "outputs": [],
   "source": [
    "dataset.info()"
   ]
  },
  {
   "cell_type": "code",
   "execution_count": null,
   "id": "05038e78",
   "metadata": {
    "scrolled": false
   },
   "outputs": [],
   "source": [
    "## Check duplicates\n",
    "\n",
    "print('Unique user_id: {}'.format(dataset['user_id'].nunique()))\n",
    "print('Unique username: {}'.format(dataset['username'].nunique()))\n",
    "\n",
    "dataset[dataset.duplicated('username', keep=False)]"
   ]
  },
  {
   "cell_type": "code",
   "execution_count": null,
   "id": "3e499255",
   "metadata": {},
   "outputs": [],
   "source": [
    "## Check NaN values\n",
    "\n",
    "print(dataset.isna().sum())\n",
    "\n",
    "## Change social features to 1/0 encoding for further analysis\n",
    "\n",
    "to_change = ['twitter', 'instagram']\n",
    "for i in to_change:\n",
    "    dataset[i] = dataset[i].apply(true_false_setter).astype('int')\n",
    "\n",
    "## invited_by_user_profile and invited_by_club are our relationship features\n",
    "## If NaN we have to encode them in a specific label. If \"invited_by_user_profile\" is NaN then it means this profile was one of\n",
    "## the original ones. It can be set to 0.\n",
    "\n",
    "dataset['invited_by_user_profile'] = dataset['invited_by_user_profile'].fillna(0)\n",
    "\n",
    "## Same reasoning with \"invited_by_club\", but if not invited by a club the user was invited by another user so we can set it \n",
    "## to 0 if NaN\n",
    "\n",
    "dataset['invited_by_club'] = dataset['invited_by_club'].fillna(0)\n"
   ]
  },
  {
   "cell_type": "code",
   "execution_count": null,
   "id": "23877d55",
   "metadata": {
    "scrolled": false
   },
   "outputs": [],
   "source": [
    "## For further analysis support new features are going to be created.\n",
    "\n",
    "## Shows the date of creation\n",
    "dataset['date_created'] = pd.to_datetime(dataset['time_created'].str[0:10])\n",
    "\n",
    "## Auxiliar dataframe for calculating the number of profiles invited by that user\n",
    "invt_df = pd.DataFrame(dataset['invited_by_user_profile'].value_counts().rename_axis('user_id').reset_index(name='invite_count'))\n",
    "invt_df = invt_df[invt_df['user_id']!='null']\n",
    "\n",
    "## Add invite count to original dataset, useful for graph data managment\n",
    "dataset = dataset.merge(invt_df, how='left', on='user_id')\n",
    "dataset['invite_count'] = dataset['invite_count'].fillna(0)\n"
   ]
  },
  {
   "cell_type": "code",
   "execution_count": null,
   "id": "c8e2948e",
   "metadata": {},
   "outputs": [],
   "source": [
    "## Remove useless columns\n",
    "\n",
    "dataset.drop(['photo_url','time_created'],axis=1, inplace=True)"
   ]
  },
  {
   "cell_type": "code",
   "execution_count": null,
   "id": "e2daad4e",
   "metadata": {},
   "outputs": [],
   "source": [
    "dataset.info()\n",
    "dataset.head()"
   ]
  }
 ],
 "metadata": {
  "kernelspec": {
   "display_name": "Python 3",
   "language": "python",
   "name": "python3"
  },
  "language_info": {
   "codemirror_mode": {
    "name": "ipython",
    "version": 3
   },
   "file_extension": ".py",
   "mimetype": "text/x-python",
   "name": "python",
   "nbconvert_exporter": "python",
   "pygments_lexer": "ipython3",
   "version": "3.8.5"
  }
 },
 "nbformat": 4,
 "nbformat_minor": 5
}
